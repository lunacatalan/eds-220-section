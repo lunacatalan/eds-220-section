{
 "cells": [
  {
   "cell_type": "markdown",
   "id": "51c7e219-bcbb-4909-921c-111c09105813",
   "metadata": {},
   "source": [
    "# Section 1\n",
    "\n",
    "Preliminary Data exploration with pandas"
   ]
  },
  {
   "cell_type": "code",
   "execution_count": 1,
   "id": "fe0b1e38-ff30-4770-8b0d-5af500141c33",
   "metadata": {
    "tags": []
   },
   "outputs": [],
   "source": [
    "# load libraries \n",
    "\n",
    "import pandas as pd"
   ]
  },
  {
   "cell_type": "code",
   "execution_count": null,
   "id": "af4e71bb-e85f-4ab5-835c-c0e2dc7c1f97",
   "metadata": {},
   "outputs": [],
   "source": [
    "pd.read_csv()"
   ]
  }
 ],
 "metadata": {
  "kernelspec": {
   "display_name": "Anaconda 3 (Base)",
   "language": "python",
   "name": "base"
  },
  "language_info": {
   "codemirror_mode": {
    "name": "ipython",
    "version": 3
   },
   "file_extension": ".py",
   "mimetype": "text/x-python",
   "name": "python",
   "nbconvert_exporter": "python",
   "pygments_lexer": "ipython3",
   "version": "3.9.13"
  }
 },
 "nbformat": 4,
 "nbformat_minor": 5
}
