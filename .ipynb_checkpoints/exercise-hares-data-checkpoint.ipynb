{
 "cells": [
  {
   "cell_type": "markdown",
   "id": "983f0250-5f7f-45bb-8aa6-566b539ec8d3",
   "metadata": {},
   "source": [
    "# Description\n",
    "\n",
    "This data is about snowshoe hares in Alaska, between the years 1999 and 2012. The goal was to explore density of hares in the region between Tok and Clear. Hare populations have declined since 1999. \n",
    "\n",
    "Kielland, K., F.S. Chapin, R.W. Ruess, and Bonanza Creek LTER. 2017. Snowshoe hare physical data in Bonanza Creek Experimental Forest: 1999-Present ver 22. Environmental Data Initiative. https://doi.org/10.6073/pasta/03dce4856d79b91557d8e6ce2cbcdc14 (Accessed 2023-10-19).\n",
    "\n",
    "\n",
    "![Snowshoe Hare - Summaer Coat](https://upload.wikimedia.org/wikipedia/commons/thumb/5/5c/Lepus_americanus_5459_cropped.jpg/440px-Lepus_americanus_5459_cropped.jpg)"
   ]
  },
  {
   "cell_type": "code",
   "execution_count": null,
   "id": "f5bcc1bb-4b19-4422-9a07-22fb128e2109",
   "metadata": {},
   "outputs": [],
   "source": []
  },
  {
   "cell_type": "markdown",
   "id": "d3187694-34d3-4fff-95e3-b977f304bb49",
   "metadata": {},
   "source": []
  },
  {
   "cell_type": "markdown",
   "id": "9b6ce26a-6fb2-4a61-9446-3608fa95af73",
   "metadata": {},
   "source": []
  },
  {
   "cell_type": "markdown",
   "id": "1bf04d4a-40a0-403b-894a-95e95bc74c1b",
   "metadata": {},
   "source": []
  }
 ],
 "metadata": {
  "kernelspec": {
   "display_name": "Anaconda 3 (Base)",
   "language": "python",
   "name": "base"
  },
  "language_info": {
   "codemirror_mode": {
    "name": "ipython",
    "version": 3
   },
   "file_extension": ".py",
   "mimetype": "text/x-python",
   "name": "python",
   "nbconvert_exporter": "python",
   "pygments_lexer": "ipython3",
   "version": "3.9.13"
  }
 },
 "nbformat": 4,
 "nbformat_minor": 5
}
